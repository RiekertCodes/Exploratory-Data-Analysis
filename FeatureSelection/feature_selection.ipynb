{
 "cells": [
  {
   "cell_type": "code",
   "execution_count": 114,
   "id": "e5755eef-54d5-402b-b4e0-2be27f1945f8",
   "metadata": {},
   "outputs": [],
   "source": [
    "\n",
    "import pandas as pd\n",
    "from sklearn.model_selection import train_test_split\n",
    "\n",
    "from sklearn.datasets import load_boston, load_wine, load_breast_cancer\n",
    "from sklearn.datasets import fetch_california_housing\n",
    "from mlxtend.feature_selection import SequentialFeatureSelector\n",
    "from sklearn.linear_model import LinearRegression,LogisticRegression\n",
    "from sklearn.multiclass import OneVsRestClassifier\n",
    "from sklearn.linear_model import LogisticRegression\n",
    "from sklearn.feature_selection import SelectFromModel, SelectKBest\n",
    "from sklearn.ensemble import RandomForestRegressor, RandomForestClassifier\n",
    "from sklearn.feature_selection import mutual_info_regression, f_regression\n",
    "from sklearn.feature_selection import mutual_info_classif, f_classif\n",
    "import matplotlib.pyplot as plt\n",
    "%matplotlib inline\n",
    "\n",
    "\n"
   ]
  },
  {
   "cell_type": "code",
   "execution_count": 64,
   "id": "f552d76b-cc0f-477c-8403-4d6b854401a3",
   "metadata": {},
   "outputs": [],
   "source": [
    "def load_data(dataset):\n",
    "    dataset_call = {\n",
    "        'boston': load_boston, # regression\n",
    "        'wine': load_wine, # classification\n",
    "        'cali': fetch_california_housing,  # regression\n",
    "        'breast_cancer': load_breast_cancer, # classification\n",
    "    }\n",
    "    dataset_files = {\n",
    "        'pokemon': {'filename': 'pokemon.csv', 'target': 'is_legendary'}  # classification, https://www.kaggle.com/rounakbanik/pokemon\n",
    "    }\n",
    "    if dataset in dataset_call.keys():\n",
    "        data = dataset_call[dataset]()\n",
    "        y = data.target\n",
    "        df = pd.DataFrame(data.data, columns=data.feature_names)\n",
    "    else:\n",
    "        df = pd.read_csv(dataset_files[dataset]['filename'])\n",
    "        y = df[dataset_files[dataset]['target']].values\n",
    "        df.drop(columns=dataset_files[dataset]['target'], inplace=True)\n",
    "               \n",
    "    X_train, X_valid, y_train, y_valid = train_test_split(df, y, test_size=0.2, random_state=42)\n",
    "    out_dict = {\n",
    "        'y': y,\n",
    "        'df': df,\n",
    "        'x_train': X_train,\n",
    "        'x_valid': X_valid,\n",
    "        'y_train': y_train,\n",
    "        'y_valid': y_valid\n",
    "    }\n",
    "    return out_dict\n",
    "    \n",
    "ds = {}\n",
    "for d in ['boston', 'wine', 'cali', 'breast_cancer', 'pokemon']:\n",
    "    ds[d] = load_data(d)\n"
   ]
  },
  {
   "cell_type": "markdown",
   "id": "4045d245-7f8d-4301-bf08-a9f26f9cf295",
   "metadata": {},
   "source": [
    "# Wrapper Method Examples"
   ]
  },
  {
   "cell_type": "markdown",
   "id": "761efbf5-b0e7-4ae7-90ce-491da324d5d4",
   "metadata": {},
   "source": [
    "### Forward selection"
   ]
  },
  {
   "cell_type": "code",
   "execution_count": 35,
   "id": "a86d0ae8-07f8-45ef-928c-2e0c6c004f5a",
   "metadata": {},
   "outputs": [
    {
     "data": {
      "text/plain": [
       "('RM', 'PTRATIO', 'LSTAT')"
      ]
     },
     "execution_count": 35,
     "metadata": {},
     "output_type": "execute_result"
    }
   ],
   "source": [
    "# https://medium.com/analytics-vidhya/feature-selection-for-dimensionality-reduction-wrapper-method-9979fffd0166\n",
    "dataset = 'boston'\n",
    "k = 3\n",
    "cv = 3\n",
    "scoring = 'r2'\n",
    "\n",
    "#FOR REGRESSION MODEL\n",
    "feature_select = SequentialFeatureSelector(LinearRegression(),\n",
    "                                           k_features=k,\n",
    "                                           forward=True,\n",
    "                                           floating=False,\n",
    "                                           scoring=scoring,\n",
    "                                           cv=cv)\n",
    "feature_select.fit(ds[dataset]['x_train'], ds[dataset]['y_train'])\n",
    "feature_select.k_feature_names_"
   ]
  },
  {
   "cell_type": "code",
   "execution_count": 44,
   "id": "b1777b85-3f05-4286-8382-22ec857a01a6",
   "metadata": {},
   "outputs": [
    {
     "data": {
      "text/plain": [
       "('alcohol', 'ash', 'flavanoids')"
      ]
     },
     "execution_count": 44,
     "metadata": {},
     "output_type": "execute_result"
    }
   ],
   "source": [
    "#FOR CLASSIFICATION MODEL\n",
    "dataset = 'wine' # 'breast_cancer'\n",
    "k = 3\n",
    "cv = 3\n",
    "scoring='accuracy'\n",
    "feature_select = SequentialFeatureSelector(LogisticRegression(multi_class='ovr', solver='newton-cg'),\n",
    "                                           k_features=k,\n",
    "                                           forward=True,\n",
    "                                           floating=False,\n",
    "                                           scoring=scoring,\n",
    "                                           cv=cv)\n",
    "feature_select.fit(ds[dataset]['x_train'], ds[dataset]['y_train'])\n",
    "feature_select.k_feature_names_"
   ]
  },
  {
   "cell_type": "markdown",
   "id": "4b71d1e1-5989-4d5e-b840-95b2d0682239",
   "metadata": {},
   "source": [
    "### Backward selection"
   ]
  },
  {
   "cell_type": "code",
   "execution_count": 45,
   "id": "250abd76-1f16-460d-97b1-3485550dd49c",
   "metadata": {},
   "outputs": [
    {
     "data": {
      "text/plain": [
       "('RM', 'PTRATIO', 'LSTAT')"
      ]
     },
     "execution_count": 45,
     "metadata": {},
     "output_type": "execute_result"
    }
   ],
   "source": [
    "dataset = 'boston'\n",
    "k = 3\n",
    "cv = 3\n",
    "scoring = 'r2'\n",
    "#FOR REGRESSION MODEL\n",
    "feature_select = SequentialFeatureSelector(LinearRegression(),\n",
    "                                           k_features=k,\n",
    "                                           forward=False,\n",
    "                                           floating=False,\n",
    "                                           scoring=scoring,\n",
    "                                           cv=cv)\n",
    "feature_select.fit(ds[dataset]['x_train'], ds[dataset]['y_train'])\n",
    "feature_select.k_feature_names_"
   ]
  },
  {
   "cell_type": "code",
   "execution_count": 47,
   "id": "3b19e333-f3c5-495f-b826-813551d254d6",
   "metadata": {},
   "outputs": [
    {
     "data": {
      "text/plain": [
       "('flavanoids', 'color_intensity', 'proline')"
      ]
     },
     "execution_count": 47,
     "metadata": {},
     "output_type": "execute_result"
    }
   ],
   "source": [
    "#FOR CLASSIFICATION MODEL\n",
    "dataset = 'wine'\n",
    "k = 3\n",
    "cv = 3\n",
    "scoring = 'accuracy'\n",
    "feature_select = SequentialFeatureSelector(LogisticRegression(solver='newton-cg'),\n",
    "                                           k_features=k,\n",
    "                                           forward=False,\n",
    "                                           floating=False,\n",
    "                                           scoring=scoring,\n",
    "                                           cv=cv)\n",
    "feature_select.fit(ds[dataset]['x_train'], ds[dataset]['y_train'])\n",
    "feature_select.k_feature_names_"
   ]
  },
  {
   "cell_type": "markdown",
   "id": "f23246f9-d73b-48c9-b9b2-e429b1caa8d3",
   "metadata": {},
   "source": [
    "### Exhaustive selection"
   ]
  },
  {
   "cell_type": "code",
   "execution_count": 51,
   "id": "a236d775-1aea-43ec-aac3-7fd0f253ed12",
   "metadata": {},
   "outputs": [
    {
     "name": "stdout",
     "output_type": "stream",
     "text": [
      "Best accuracy score: 0.7129187439595597\n",
      "Best subset (indices): (4, 5, 7, 10, 11, 12)\n",
      "Best subset (name): ('NOX', 'RM', 'DIS', 'PTRATIO', 'B', 'LSTAT')\n"
     ]
    }
   ],
   "source": [
    "from mlxtend.feature_selection import ExhaustiveFeatureSelector\n",
    "#FOR REGRESSION MODELS\n",
    "dataset = 'boston'\n",
    "min_features = 3\n",
    "max_features = 6\n",
    "cv = 5\n",
    "scoring = 'r2'\n",
    "feature_select = ExhaustiveFeatureSelector(LinearRegression(),             \n",
    "                                           min_features=min_features,\n",
    "                                           max_features=max_features,\n",
    "                                           scoring=scoring,\n",
    "                                           print_progress=False,\n",
    "                                           cv=cv)\n",
    "feature_select = feature_select.fit(ds[dataset]['x_train'], ds[dataset]['y_train'])\n",
    "print(f'Best accuracy score: {feature_select.best_score_}') \n",
    "print(f'Best subset (indices): {feature_select.best_idx_}') \n",
    "print(f'Best subset (name): {feature_select.best_feature_names_}')"
   ]
  },
  {
   "cell_type": "code",
   "execution_count": 55,
   "id": "659c7be6-530d-47ec-98f2-2cfdd49f25a2",
   "metadata": {},
   "outputs": [
    {
     "name": "stdout",
     "output_type": "stream",
     "text": [
      "Best accuracy score: 0.9538314398330628\n",
      "Best subset (indices): (10, 20, 21, 26)\n",
      "Best subset (name): ('radius error', 'worst radius', 'worst texture', 'worst concavity')\n"
     ]
    }
   ],
   "source": [
    "#FOR CLASSIFICATION MODELS\n",
    "dataset = 'breast_cancer'\n",
    "min_features = 3\n",
    "max_features = 4\n",
    "scoring = 'accuracy'\n",
    "cv = 2\n",
    "feature_select = ExhaustiveFeatureSelector(LogisticRegression(max_iter=1000),             \n",
    "                                           min_features=min_features,\n",
    "                                           max_features=max_features,\n",
    "                                           scoring=scoring,\n",
    "                                           print_progress=False,\n",
    "                                           cv=cv)\n",
    "feature_select = feature_select.fit(ds[dataset]['x_train'], ds[dataset]['y_train'])\n",
    "print(f'Best accuracy score: {feature_select.best_score_}') \n",
    "print(f'Best subset (indices): {feature_select.best_idx_}') \n",
    "print(f'Best subset (name): {feature_select.best_feature_names_}')"
   ]
  },
  {
   "cell_type": "code",
   "execution_count": null,
   "id": "26eb64ce-fb21-4ca6-b4aa-879a8d426bc7",
   "metadata": {},
   "outputs": [],
   "source": [
    "# Recursive Feature Selection\n",
    "from sklearn.feature_selection import RFE\n",
    "rfe = RFE(lr, n_features_to_select=7)\n",
    "rfe.fit(x_train, y_train)\n",
    "y_pred = rfe.predict(x_train)"
   ]
  },
  {
   "cell_type": "markdown",
   "id": "563de84d-e4fa-41a1-ba7b-7249d4ba7409",
   "metadata": {},
   "source": [
    "# mRMR correlation example"
   ]
  },
  {
   "cell_type": "code",
   "execution_count": 130,
   "id": "e630ded3-849e-40d0-a102-1d48102f0789",
   "metadata": {},
   "outputs": [
    {
     "name": "stdout",
     "output_type": "stream",
     "text": [
      "['LSTAT', 'RM', 'PTRATIO']\n"
     ]
    }
   ],
   "source": [
    "# github.com/smazzanti/mrmr\n",
    "dataset = 'boston'\n",
    "K = 3\n",
    "\n",
    "# inputs:\n",
    "#    X: pandas.DataFrame, features\n",
    "#    y: pandas.Series, target variable\n",
    "#    K: number of features to select\n",
    "X = ds[dataset]['x_train']\n",
    "y = ds[dataset]['y_train']\n",
    "# compute F-statistics and initialize correlation matrix\n",
    "F = pd.Series(f_regression(ds[dataset]['x_train'], ds[dataset]['y_train'])[0], index = X.columns)\n",
    "corr = pd.DataFrame(.00001, index=ds[dataset]['x_train'].columns, columns=ds[dataset]['x_train'].columns)\n",
    "\n",
    "# initialize list of selected features and list of excluded features\n",
    "selected = []\n",
    "not_selected = ds[dataset]['x_train'].columns.to_list()\n",
    "\n",
    "# repeat K times\n",
    "for i in range(K):\n",
    "  \n",
    "    # compute (absolute) correlations between the last selected feature and all the (currently) excluded features\n",
    "    if i > 0:\n",
    "        last_selected = selected[-1]\n",
    "        corr.loc[not_selected, last_selected] = X[not_selected].corrwith(X[last_selected]).abs().clip(.00001)\n",
    "        \n",
    "    # compute FCQ score for all the (currently) excluded features\n",
    "    score = F.loc[not_selected] / corr.loc[not_selected, selected].mean(axis = 1).fillna(.00001)\n",
    "    \n",
    "    # find best feature, add it to selected and remove it from not_selected\n",
    "    best = score.index[score.argmax()]\n",
    "    selected.append(best)\n",
    "    not_selected.remove(best)\n",
    "print(selected)"
   ]
  },
  {
   "cell_type": "markdown",
   "id": "2d892c9e-de92-420c-959d-43fc1d710c85",
   "metadata": {},
   "source": [
    "# F-test for classification and regression"
   ]
  },
  {
   "cell_type": "markdown",
   "id": "98cd2ec9-7096-429b-8c60-ea5d00167178",
   "metadata": {},
   "source": [
    "### Regression"
   ]
  },
  {
   "cell_type": "code",
   "execution_count": 125,
   "id": "57b75ee5-1721-400f-849e-f79dc1193aad",
   "metadata": {},
   "outputs": [
    {
     "name": "stdout",
     "output_type": "stream",
     "text": [
      "Feature 0: 67.883733\n",
      "Feature 1: 42.588205\n",
      "Feature 2: 114.320536\n",
      "Feature 3: 15.161468\n",
      "Feature 4: 84.013811\n",
      "Feature 5: 410.229239\n",
      "Feature 6: 52.621081\n",
      "Feature 7: 23.522254\n",
      "Feature 8: 71.013850\n",
      "Feature 9: 107.771409\n",
      "Feature 10: 127.844779\n",
      "Feature 11: 52.516697\n",
      "Feature 12: 476.339250\n"
     ]
    },
    {
     "data": {
      "image/png": "[encoded data removed]",
      "text/plain": [
       "<Figure size 432x288 with 1 Axes>"
      ]
     },
     "metadata": {
      "needs_background": "light"
     },
     "output_type": "display_data"
    }
   ],
   "source": [
    "dataset = 'boston'\n",
    "# example of correlation feature selection for numerical data\n",
    "from sklearn.datasets import make_regression\n",
    "\n",
    "\n",
    "def select_features(X_train, y_train, X_test):\n",
    "    # configure to select all features\n",
    "    fs = SelectKBest(score_func=f_regression, k='all')\n",
    "    fs.fit(X_train, y_train)\n",
    "    # transform train input data\n",
    "    X_train_fs = fs.transform(X_train)\n",
    "    # transform test input data\n",
    "    X_test_fs = fs.transform(X_test)\n",
    "    return X_train_fs, X_test_fs, fs\n",
    "\n",
    "# feature selection\n",
    "_, _, fs = select_features(ds[dataset]['x_train'], ds[dataset]['y_train'],ds[dataset]['x_valid'])\n",
    "final_df = pd.DataFrame({ \"Features\": pd.DataFrame(ds[dataset]['x_train']).columns, \"Importances\": fs.scores_})\n",
    "final_df.set_index('Importances')\n",
    "# sort in ascending order to better visualization.\n",
    "final_df = final_df.sort_values('Importances')\n",
    "# plot the feature importances in bars.\n",
    "final_df.plot.bar(color='teal', x='Features')\n",
    "# what are scores for the feature\n",
    "for i in range(len(fs.scores_)):\n",
    "    print('Feature %d: %f' % (i, fs.scores_[i]))\n"
   ]
  },
  {
   "cell_type": "markdown",
   "id": "6e60ac3c-3efc-48b6-8928-f99b67804d6d",
   "metadata": {},
   "source": [
    "### Classification"
   ]
  },
  {
   "cell_type": "code",
   "execution_count": null,
   "id": "d63f9399-7488-4f2a-ba72-583dcf505984",
   "metadata": {},
   "outputs": [],
   "source": []
  },
  {
   "cell_type": "markdown",
   "id": "66b6e6cb-d739-4231-b5f2-578cdca03e9b",
   "metadata": {},
   "source": [
    "# Mutual Information for classification and regression"
   ]
  },
  {
   "cell_type": "markdown",
   "id": "7f2a34f4-0510-4129-81e5-793ddee16647",
   "metadata": {},
   "source": [
    "### Regression"
   ]
  },
  {
   "cell_type": "code",
   "execution_count": 146,
   "id": "65df0ffa-e886-4761-bd9d-4ab83b699286",
   "metadata": {},
   "outputs": [
    {
     "name": "stdout",
     "output_type": "stream",
     "text": [
      "Feature 0: 0.338664\n",
      "Feature 1: 0.179428\n",
      "Feature 2: 0.476692\n",
      "Feature 3: 0.014828\n",
      "Feature 4: 0.438236\n",
      "Feature 5: 0.508649\n",
      "Feature 6: 0.297733\n",
      "Feature 7: 0.261638\n",
      "Feature 8: 0.223895\n",
      "Feature 9: 0.339232\n",
      "Feature 10: 0.480366\n",
      "Feature 11: 0.174690\n",
      "Feature 12: 0.671884\n"
     ]
    },
    {
     "data": {
      "image/png": "[encoded data removed]",
      "text/plain": [
       "<Figure size 432x288 with 1 Axes>"
      ]
     },
     "metadata": {
      "needs_background": "light"
     },
     "output_type": "display_data"
    }
   ],
   "source": [
    "dataset = 'boston'\n",
    "\n",
    "# example of mutual information feature selection for numerical input data\n",
    "def select_features(X_train, y_train, X_test):\n",
    "    # configure to select all features\n",
    "    fs = SelectKBest(score_func=mutual_info_regression, k='all')\n",
    "    fs.fit(X_train, y_train)\n",
    "    # transform train input data\n",
    "    X_train_fs = fs.transform(X_train)\n",
    "    # transform test input data\n",
    "    X_test_fs = fs.transform(X_test)\n",
    "    return X_train_fs, X_test_fs, fs\n",
    "\n",
    "# If you want to create your own dataset\n",
    "# X, y = make_regression(n_samples=1000, n_features=100, n_informative=10, noise=0.1, random_state=1)\n",
    "# split into train and test sets\n",
    "# X_train, X_test, y_train, y_test = train_test_split(X, y, test_size=0.33, random_state=1)\n",
    "# feature selection\n",
    "_, _, fs = select_features(ds[dataset]['x_train'], ds[dataset]['y_train'],ds[dataset]['x_valid'])\n",
    "\n",
    "final_df = pd.DataFrame({ \"Features\": pd.DataFrame(ds[dataset]['x_train']).columns, \\\n",
    "                         \"Importances\": fs.scores_, \"Included\": fs.get_support()})\n",
    "final_df.set_index('Importances')\n",
    "# sort in ascending order to better visualization.\n",
    "final_df = final_df.sort_values('Importances')\n",
    "# plot the feature importances in bars.\n",
    "final_df.plot.bar(color='teal', x='Features')\n",
    "# what are scores for the feature\n",
    "for i in range(len(fs.scores_)):\n",
    "    print('Feature %d: %f' % (i, fs.scores_[i]))"
   ]
  },
  {
   "cell_type": "markdown",
   "id": "b7bbf09b-92ae-4af2-9fe0-9685e9c37d82",
   "metadata": {},
   "source": [
    "### Classification"
   ]
  },
  {
   "cell_type": "code",
   "execution_count": 147,
   "id": "3bd6f35b-9592-40bf-a186-1055382c0bb6",
   "metadata": {},
   "outputs": [
    {
     "name": "stdout",
     "output_type": "stream",
     "text": [
      "Feature worst concavity: 0.315260\n",
      "Feature mean radius: 0.325420\n",
      "Feature mean area: 0.341036\n",
      "Feature mean concavity: 0.354883\n",
      "Feature mean perimeter: 0.384964\n",
      "Feature worst radius: 0.433926\n",
      "Feature worst concave points: 0.434384\n",
      "Feature mean concave points: 0.435989\n",
      "Feature worst area: 0.439824\n",
      "Feature worst perimeter: 0.468578\n"
     ]
    },
    {
     "data": {
      "image/png": "[encoded data removed]",
      "text/plain": [
       "<Figure size 432x288 with 1 Axes>"
      ]
     },
     "metadata": {
      "needs_background": "light"
     },
     "output_type": "display_data"
    }
   ],
   "source": [
    "dataset = 'breast_cancer'\n",
    "from sklearn.preprocessing import LabelEncoder\n",
    "#importances = mutual_info_classif(ds[dataset]['x_train'], y_train_enc)\n",
    "#feat_importances = pd.Series(importances, dataframe.columns[@:len(dataframe.columns)-1])\n",
    "#feat_importances.plot(kind='barh', color = 'teal')\n",
    "#plt.show()\n",
    "\n",
    " \n",
    "# prepare target\n",
    "def prepare_targets(y_train, y_test):\n",
    "    le = LabelEncoder()\n",
    "    le.fit(y_train)\n",
    "    y_train_enc = le.transform(y_train)\n",
    "    y_test_enc = le.transform(y_test)\n",
    "    return y_train_enc, y_test_enc\n",
    " \n",
    "def select_features(X_train, y_train, X_test):\n",
    "    # configure to select 10 features\n",
    "    fs = SelectKBest(score_func=mutual_info_classif, k=10)\n",
    "    fs.fit(X_train, y_train)\n",
    "    # transform train input data\n",
    "    X_train_fs = fs.transform(X_train)\n",
    "    # transform test input data\n",
    "    X_test_fs = fs.transform(X_test)\n",
    "    return X_train_fs, X_test_fs, fs\n",
    "\n",
    "# prepare output data\n",
    "y_train_enc, y_test_enc = prepare_targets(ds[dataset]['y_train'], ds[dataset]['y_valid'])\n",
    "\n",
    "_, _, fs = select_features(ds[dataset]['x_train'], y_train_enc, ds[dataset]['x_valid'])\n",
    "# print(fs.get_support())\n",
    "final_df = pd.DataFrame({ \"Features\": pd.DataFrame(ds[dataset]['x_train']).columns, \n",
    "                         \"Importances\": fs.scores_, \"Included\": fs.get_support()})\n",
    "final_df.set_index('Importances')\n",
    "# sort in ascending order to better visualization.\n",
    "final_df = final_df[final_df.Included == True].sort_values('Importances')\n",
    "# plot the feature importances in bars.\n",
    "final_df.plot.bar(color='teal', x='Features')\n",
    "# what are scores for the feature\n",
    "for _, row in final_df.iterrows():\n",
    "    print('Feature %s: %f' % (row['Features'], row['Importances']))"
   ]
  },
  {
   "cell_type": "code",
   "execution_count": 140,
   "id": "4da61336-e738-480f-8892-68fc9d9847b4",
   "metadata": {},
   "outputs": [
    {
     "data": {
      "image/png": "[encoded data removed]",
      "text/plain": [
       "<Figure size 432x288 with 1 Axes>"
      ]
     },
     "metadata": {
      "needs_background": "light"
     },
     "output_type": "display_data"
    }
   ],
   "source": [
    "importances = mutual_info_classif(ds[dataset]['x_train'], y_train_enc)\n",
    "feat_importances = pd.Series(importances, ds[dataset]['x_train'].columns[0:len(ds[dataset]['x_train'].columns)])\n",
    "feat_importances.plot(kind='barh', color = 'teal')\n",
    "plt.show()"
   ]
  },
  {
   "cell_type": "markdown",
   "id": "77dc29dc-feeb-4215-b272-78c4d7a0cb2d",
   "metadata": {},
   "source": [
    "# Feature importances from embedded methods"
   ]
  },
  {
   "cell_type": "markdown",
   "id": "5f4436e0-50e7-4ca0-897a-824a0b50da06",
   "metadata": {},
   "source": [
    "### Random Forest"
   ]
  },
  {
   "cell_type": "code",
   "execution_count": 82,
   "id": "920aac81-d8b0-4c2b-a4e5-085428b1e2cc",
   "metadata": {},
   "outputs": [
    {
     "name": "stderr",
     "output_type": "stream",
     "text": [
      "/opt/homebrew/Caskroom/miniforge/base/envs/py3c/lib/python3.9/site-packages/pandas/core/frame.py:4321: SettingWithCopyWarning: \n",
      "A value is trying to be set on a copy of a slice from a DataFrame\n",
      "\n",
      "See the caveats in the documentation: https://pandas.pydata.org/pandas-docs/stable/user_guide/indexing.html#returning-a-view-versus-a-copy\n",
      "  return super().fillna(\n"
     ]
    }
   ],
   "source": [
    "# !head pokemon.csv"
   ]
  },
  {
   "cell_type": "code",
   "execution_count": 87,
   "id": "99cd5b43-1fd6-45aa-9558-721a10421450",
   "metadata": {},
   "outputs": [
    {
     "name": "stdout",
     "output_type": "stream",
     "text": [
      "             Features  Importances\n",
      "17      against_water     0.001204\n",
      "3    against_electric     0.001467\n",
      "12     against_normal     0.001803\n",
      "15       against_rock     0.002030\n",
      "10     against_ground     0.002778\n",
      "6        against_fire     0.002993\n",
      "7      against_flying     0.003217\n",
      "11        against_ice     0.003286\n",
      "1        against_dark     0.003413\n",
      "9       against_grass     0.003487\n",
      "13     against_poison     0.003524\n",
      "0         against_bug     0.003721\n",
      "2      against_dragon     0.004021\n",
      "16      against_steel     0.004035\n",
      "14    against_psychic     0.004314\n",
      "4       against_fairy     0.005048\n",
      "5       against_fight     0.008566\n",
      "32         generation     0.008686\n",
      "8       against_ghost     0.008832\n",
      "22            defense     0.013802\n",
      "29         sp_defense     0.022216\n",
      "18             attack     0.022851\n",
      "31          weight_kg     0.026797\n",
      "30              speed     0.027061\n",
      "25                 hp     0.030148\n",
      "28          sp_attack     0.031945\n",
      "24           height_m     0.033096\n",
      "23  experience_growth     0.042776\n",
      "27     pokedex_number     0.043008\n",
      "20     base_happiness     0.085341\n",
      "26    percentage_male     0.098066\n",
      "21         base_total     0.157233\n",
      "19     base_egg_steps     0.289238\n"
     ]
    },
    {
     "data": {
      "image/png": "[encoded data removed]",
      "text/plain": [
       "<Figure size 432x288 with 1 Axes>"
      ]
     },
     "metadata": {
      "needs_background": "light"
     },
     "output_type": "display_data"
    }
   ],
   "source": [
    "# create the random forest with your hyperparameters.\n",
    "\n",
    "#### NOTE: I have not cleaned this dataset, and it has some nans and such in it.  You should try cleaning it :)  I have just removed\n",
    "# some stuff to show you how the RFC works.\n",
    "d = 'pokemon'\n",
    "# drop the columns that are not numerical for this:\n",
    "# numerics = ['int16','int32','int64','float16','float32','float64']\n",
    "# numerical_vars = list(data.select_dtypes(include=numerics).columns)\n",
    "# data = data[numerical_vars]\n",
    "ds[d]['x_train'].fillna(1, inplace=True)  # note, the weight has some nans in it\n",
    "x_train = ds[d]['x_train'].drop(columns=['abilities', 'name', 'type1', 'type2', 'japanese_name', 'classfication', 'capture_rate'])\n",
    "\n",
    "model = RandomForestClassifier(n_estimators=250, random_state=42, max_depth=10)\n",
    "# fit the model to start training.\n",
    "model.fit(x_train, ds[d]['y_train'])\n",
    "# get the importance of the resulting features.\n",
    "importances = model.feature_importances_\n",
    "# create a data frame for visualization.\n",
    "final_df = pd.DataFrame({ \"Features\": pd.DataFrame(x_train).columns, \"Importances\": importances})\n",
    "final_df.set_index('Importances')\n",
    "# sort in ascending order to better visualization.\n",
    "final_df = final_df.sort_values('Importances')\n",
    "# plot the feature importances in bars.\n",
    "final_df.plot.bar(color='teal', x='Features')\n",
    "print(final_df)"
   ]
  },
  {
   "cell_type": "markdown",
   "id": "75404c31-140e-4fd4-bf43-904f141fa997",
   "metadata": {},
   "source": [
    "### L1 Regularisation"
   ]
  },
  {
   "cell_type": "code",
   "execution_count": 112,
   "id": "925dcc45-fe31-4efd-9d3d-d58416b4194d",
   "metadata": {},
   "outputs": [
    {
     "name": "stdout",
     "output_type": "stream",
     "text": [
      "total features: 30\n",
      "selected features: 10\n",
      "features with coefficients shrank to zero: 20\n",
      "Index(['mean radius', 'mean texture', 'mean perimeter', 'mean area',\n",
      "       'texture error', 'area error', 'worst texture', 'worst perimeter',\n",
      "       'worst area', 'worst concavity'],\n",
      "      dtype='object')\n"
     ]
    },
    {
     "name": "stderr",
     "output_type": "stream",
     "text": [
      "/opt/homebrew/Caskroom/miniforge/base/envs/py3c/lib/python3.9/site-packages/sklearn/svm/_base.py:985: ConvergenceWarning: Liblinear failed to converge, increase the number of iterations.\n",
      "  warnings.warn(\"Liblinear failed to converge, increase \"\n"
     ]
    }
   ],
   "source": [
    "dataset = 'breast_cancer'\n",
    "# Set the regularization parameter C=1\n",
    "logistic = LogisticRegression(C=1, penalty=\"l1\", solver='liblinear', random_state=7)\n",
    "model = SelectFromModel(logistic)  # this chooses the best features for us!\n",
    "model.fit(ds[dataset]['x_train'], ds[dataset]['y_train'])\n",
    "# model.\n",
    "\n",
    "selected_feat = ds[dataset]['x_train'].columns[(model.get_support())]\n",
    "print('total features: {}'.format((ds[dataset]['x_train'].shape[1])))\n",
    "print('selected features: {}'.format(len(selected_feat)))\n",
    "print('features with coefficients shrank to zero: {}'.format(\n",
    "      np.sum(model.estimator_.coef_ == 0)))\n",
    "print(selected_feat)"
   ]
  },
  {
   "cell_type": "code",
   "execution_count": 107,
   "id": "a2b601db-8292-43c8-9486-cc2287354ab6",
   "metadata": {},
   "outputs": [
    {
     "name": "stdout",
     "output_type": "stream",
     "text": [
      "   Features  Importances\n",
      "2     INDUS     0.000000\n",
      "3      CHAS     0.000000\n",
      "4       NOX     0.000000\n",
      "11        B     0.011181\n",
      "9       TAX     0.012286\n",
      "6       AGE     0.016395\n",
      "1        ZN     0.028501\n",
      "0      CRIM     0.076609\n",
      "8       RAD     0.219654\n",
      "7       DIS     0.630858\n",
      "10  PTRATIO     0.708582\n",
      "12    LSTAT     0.747107\n",
      "5        RM     1.630489\n"
     ]
    },
    {
     "data": {
      "image/png": "[encoded data removed]",
      "text/plain": [
       "<Figure size 432x288 with 1 Axes>"
      ]
     },
     "metadata": {
      "needs_background": "light"
     },
     "output_type": "display_data"
    }
   ],
   "source": [
    "from sklearn.linear_model import Lasso\n",
    "import numpy as np\n",
    "dataset = 'boston'\n",
    "# Set the regularization parameter C=1\n",
    "lasso = Lasso(random_state=7)\n",
    "lasso.fit(ds[dataset]['x_train'], ds[dataset]['y_train'])\n",
    "# coef_lasso_ = np.array([lasso.coef_ for y in ds[dataset]['y_train'].T])\n",
    "importances = np.abs(lasso.coef_)\n",
    "final_df = pd.DataFrame({ \"Features\": pd.DataFrame(ds[dataset]['x_train']).columns, \"Importances\": importances})\n",
    "final_df.set_index('Importances')\n",
    "# sort in ascending order to better visualization.\n",
    "final_df = final_df.sort_values('Importances')\n",
    "# plot the feature importances in bars.\n",
    "final_df.plot.bar(color='teal', x='Features')\n",
    "print(final_df)\n",
    "# now we just have to choose which ones to keep... top 5? Top 3?"
   ]
  },
  {
   "cell_type": "markdown",
   "id": "2692bffe-9a29-43a9-9f7e-ed21a231d29c",
   "metadata": {},
   "source": [
    "# Simple Filter"
   ]
  },
  {
   "cell_type": "markdown",
   "id": "52cf81c0-d11d-4c15-ab72-2542c7da46f1",
   "metadata": {},
   "source": [
    "### Variance threshold"
   ]
  },
  {
   "cell_type": "code",
   "execution_count": null,
   "id": "9c457e4b-4642-426b-a302-2518d149130f",
   "metadata": {},
   "outputs": [],
   "source": [
    "from sklearn.feature_selection import VarianceThreshold\n",
    "# Resetting the value of X to make it non-categorical\n",
    "X = array[:,0:8]\n",
    "v_threshold = VarianceThreshold(threshold=0)\n",
    "v_threshold.fit(X) # fit finds the features with zero variance\n",
    "v_threshold.get_support()"
   ]
  },
  {
   "cell_type": "markdown",
   "id": "afe491b2-8a03-4ce6-8a99-c094ce4211be",
   "metadata": {},
   "source": [
    "### Correlation threshold"
   ]
  },
  {
   "cell_type": "code",
   "execution_count": null,
   "id": "ab727b45-ceab-4bea-b278-148274b17034",
   "metadata": {},
   "outputs": [],
   "source": []
  }
 ],
 "metadata": {
  "kernelspec": {
   "display_name": "Python 3 (ipykernel)",
   "language": "python",
   "name": "python3"
  },
  "language_info": {
   "codemirror_mode": {
    "name": "ipython",
    "version": 3
   },
   "file_extension": ".py",
   "mimetype": "text/x-python",
   "name": "python",
   "nbconvert_exporter": "python",
   "pygments_lexer": "ipython3",
   "version": "3.9.6"
  }
 },
 "nbformat": 4,
 "nbformat_minor": 5
}
